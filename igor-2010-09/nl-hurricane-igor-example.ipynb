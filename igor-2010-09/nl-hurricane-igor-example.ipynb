{
 "cells": [
  {
   "cell_type": "markdown",
   "id": "554c4d8f-61fe-4d92-a01d-eee2ba45c393",
   "metadata": {
    "tags": []
   },
   "source": [
    "# Exploring ECCC datasets archived on CaSPAr\n",
    "\n",
    "***\n",
    "IMPORTANT:\n",
    "\n",
    "I quickly created this tutorial starting from another one that used different datasets but similar tools.  Importantly, there very well could be some code and / or markdown in here that is obsolete or that relates to that other tutorial and NOT this one.\n",
    "\n",
    "So be suspicious of anything that looks odd - it might be - and correct as necessary\n",
    "\n",
    "***\n",
    "\n",
    "\n",
    "This notebook provides examples of how to read and explore the archived Environment and Climate Change Canada (ECCC) datasets that are available through the Canadian Surface Prediction Archive (CaSPAr).\n",
    "\n",
    "[CaSPAr](caspar-data.ca \"Canadian Surface Prediction Archive\") is an archive of numerical weather and hydrologic prediction and reanalysis products issued by Environment and Climate Change Canada. Additional information can be found in the CaSPAr [documentation](https://github.com/julemai/CaSPAr/wiki \"CaSPAr Documentation\")\n",
    "\n",
    "All datasets used in this notebook were downloaded through CaSPAr's graphical user interface. Users must first register with CaSPAr, and the system also requires a Globus ID and application to transfer and download the data.  Full information is available [here](https://github.com/julemai/CaSPAr/wiki/How-to-get-started-and-download-your-first-data)."
   ]
  },
  {
   "cell_type": "markdown",
   "id": "d859813f-93a9-46bb-b4cb-5d6832d47ee5",
   "metadata": {},
   "source": [
    "## Requirements"
   ]
  },
  {
   "cell_type": "markdown",
   "id": "22728499-e6e0-4a41-9071-1cc323e5febb",
   "metadata": {},
   "source": [
    "Data is disseminated through CaSPAr as netCDF.\n",
    "\n",
    "It's relatively easy to work with netCDF files in Python using the third-party library [xarray](http://xarray.pydata.org/en/stable/index.html \"xarray documentation\"), but first, make sure xarray is installed in your Python environment. This can be done with [Conda](https://conda.io \"Conda documentation\")."
   ]
  },
  {
   "cell_type": "raw",
   "id": "d50bd54d-c63b-4ef6-8b80-e2402cab61b2",
   "metadata": {},
   "source": [
    "$ conda install -c conda-forge xarray"
   ]
  },
  {
   "cell_type": "markdown",
   "id": "3e228f6c-3ad7-4a59-ae8a-51a45b4bac7d",
   "metadata": {},
   "source": [
    "Or alternatively with [pip](https://pypi.org/project/pip/ \"Pip Documentation\")."
   ]
  },
  {
   "cell_type": "raw",
   "id": "8300ead8-8379-4676-9c5e-4a7a0b3e1d4d",
   "metadata": {},
   "source": [
    "$ pip install xarray"
   ]
  },
  {
   "cell_type": "markdown",
   "id": "fff3f5ef-1eb9-4c88-864c-0c1be6089a97",
   "metadata": {},
   "source": [
    "Once installed, xarray can be imported."
   ]
  },
  {
   "cell_type": "code",
   "execution_count": null,
   "id": "d5753196-37bd-498a-9cc3-055810d84dc2",
   "metadata": {},
   "outputs": [],
   "source": [
    "import xarray as xr"
   ]
  },
  {
   "cell_type": "markdown",
   "id": "cffb3d92-68a7-4f50-bbb4-8a3c314a2ca1",
   "metadata": {},
   "source": [
    "This example will also demonstrate plotting functionality using third-party libraries, including [Matplotlib](https://matplotlib.org/ \"Matplotlib documentation\") and [Cartopy](https://scitools.org.uk/cartopy/docs/latest/ \"Cartopy documentation\").  If you haven't done so already, these libraries will also need to first be installed in your Python environment using the same methodology as described above for xarray."
   ]
  },
  {
   "cell_type": "code",
   "execution_count": null,
   "id": "09acc187-54fa-4f17-b1ec-1027a5bd4cae",
   "metadata": {},
   "outputs": [],
   "source": [
    "import matplotlib.pyplot as plt\n",
    "import matplotlib.colors as mcolors\n",
    "from matplotlib import cm\n",
    "import cartopy.crs as ccrs\n",
    "import cartopy.feature as cf"
   ]
  },
  {
   "cell_type": "markdown",
   "id": "187c0551-7c7d-4d44-9820-9ec254cabac0",
   "metadata": {},
   "source": [
    "## Working with xarray\n",
    "\n",
    "### Loading datasets\n",
    "\n",
    "A netCDF file's content can be accessed with xarray (see [Requirements](#Requirements)).  \n",
    "\n",
    "We can open data using the xarray method `load_dataset`, which is a wrapper around `open_dataset`. "
   ]
  },
  {
   "cell_type": "markdown",
   "id": "65ef4694-cbeb-4ec3-a9e0-cd0031bea07a",
   "metadata": {},
   "source": [
    "CaSPAr filenames generally follow the convention of `YYYYMMDDTT.nc` (e.g., 2017042812.nc) where YYYYMMDD is the date (e.g., 20170428 = April 28, 2017) and TT is the forecast issue time in UTC/Zulu (e.g., 12Z).  All deterministic products follow this convention.  Additionally, ensemble products follow a contention `YYYYMMDDHH_EEE.nc` where EEE is the ensemble member (e.g., '001', '002'...)."
   ]
  },
  {
   "cell_type": "code",
   "execution_count": null,
   "id": "9a1d7ad1-b607-4d1c-8e86-ff9e9e430f6a",
   "metadata": {},
   "outputs": [],
   "source": [
    "# unformatted filename string \n",
    "fname = '{fpath}/{fcst_vdate}{fcst_vtime}.nc'\n",
    "\n",
    "# parameters\n",
    "fpath = 'data' # obtained from CaSPAr previously and put in this folder\n",
    "fcst_vdate='20100919'  # forecast valid date\n",
    "fcst_vtime='12' # forecast valid time is always 12 for Reanalysis\n",
    "\n",
    "# formatted string\n",
    "fname.format(fpath=fpath, fcst_vdate=fcst_vdate, fcst_vtime=fcst_vtime)"
   ]
  },
  {
   "cell_type": "markdown",
   "id": "3097ef65-905c-40ef-a16d-a1d91e3a47e0",
   "metadata": {},
   "source": [
    "CaSPAr provides a separate netCDF file for each forecast issued at a given date/time, with each file containing whatever forecast variables and forecast horizon you choose. The choices vary by product/modelling system: for example, the Regional Determinisitic Reforecast System (RDRS) reanalysis is issued once per day at 12Z."
   ]
  },
  {
   "cell_type": "code",
   "execution_count": null,
   "id": "bd6cc345-c600-4d84-a4b3-20b79c5a14c9",
   "metadata": {},
   "outputs": [],
   "source": [
    "ds = xr.load_dataset(fname.format(fpath=fpath, fcst_vdate=fcst_vdate, fcst_vtime=fcst_vtime))"
   ]
  },
  {
   "cell_type": "markdown",
   "id": "b4785dd5-62da-44f3-86d4-587624b182b1",
   "metadata": {},
   "source": [
    "Once loaded, xarray can display a summary of the file contents by calling the variable directly in interactive Python mode or by using a print() statement."
   ]
  },
  {
   "cell_type": "code",
   "execution_count": null,
   "id": "251e267b-9bcc-4204-8fe9-6ba46d7657b9",
   "metadata": {},
   "outputs": [],
   "source": [
    "# interactive\n",
    "ds"
   ]
  },
  {
   "cell_type": "markdown",
   "id": "71bc1868-9b17-47be-8280-c97108d118b0",
   "metadata": {},
   "source": [
    "From this summary you can see that there are only two dimensions in each CaPA grib file, the geographic coordinates `y` and `x`. "
   ]
  },
  {
   "cell_type": "code",
   "execution_count": null,
   "id": "c975a338-e999-4d4d-be9e-6adafb9ec050",
   "metadata": {},
   "outputs": [],
   "source": [
    "ds.dims"
   ]
  },
  {
   "cell_type": "markdown",
   "id": "8d4cb23e-e401-43f4-b3ec-e42b1269cbbd",
   "metadata": {},
   "source": [
    "Each file contains 24 hours of data, but we can also open multiple files to create a longer time-series. If files are stored locally, it is suggested to use xarray's [open_mfdataset](\"https://xarray.pydata.org/en/stable/generated/xarray.open_mfdataset.html\") method."
   ]
  },
  {
   "cell_type": "code",
   "execution_count": null,
   "id": "d704f40b-df9e-4e0d-a3d3-aecde893f6b0",
   "metadata": {},
   "outputs": [],
   "source": [
    "# parameters\n",
    "fpath = 'data' # obtained from CaSPAr previously and put in this folder\n",
    "#fcst_vdate=f'201009{day}'  # forecast valid date\n",
    "fcst_vtime='12' # forecast valid time is always 12 for Reanalysis\n",
    "\n",
    "paths = []\n",
    "\n",
    "\n",
    "for day in range(19,23):\n",
    "    print(day)\n",
    "    fcst_vdate=f'201009{day}' \n",
    "    print(fcst_vdate)\n",
    "    paths.append(fname.format(fpath=fpath, fcst_vdate=fcst_vdate, fcst_vtime=fcst_vtime))\n",
    "\n",
    "print(paths)\n",
    "ds = xr.open_mfdataset(paths)"
   ]
  },
  {
   "cell_type": "code",
   "execution_count": null,
   "id": "fdfa3edb-91b7-4c38-ac72-604d31085d8f",
   "metadata": {},
   "outputs": [],
   "source": [
    "ds"
   ]
  },
  {
   "cell_type": "markdown",
   "id": "67337068-3f99-4a72-8e83-7c13c11944d6",
   "metadata": {},
   "source": [
    "### Available Variables \n",
    "The reanalysis has two precipitation variables: a modelled prediction and an analysis.  \n",
    "\n",
    "The analysis is preferable as it is the post-processed version of the modelled prediction using CaPA "
   ]
  },
  {
   "cell_type": "code",
   "execution_count": null,
   "id": "93190fe2-239a-4410-9db0-a8f818a2df15",
   "metadata": {},
   "outputs": [],
   "source": [
    "# compute rolling means \n",
    "ds['6h-precip'] = ds['RDRS_v2.1_A_PR0_SFC'].rolling(time=6).mean()\n",
    "ds['12h-precip'] = ds['RDRS_v2.1_A_PR0_SFC'].rolling(time=12).mean()\n",
    "ds['24h-precip'] = ds['RDRS_v2.1_A_PR0_SFC'].rolling(time=24).mean()\n",
    "ds['36h-precip'] = ds['RDRS_v2.1_A_PR0_SFC'].rolling(time=36).mean()\n",
    "ds['48h-precip'] = ds['RDRS_v2.1_A_PR0_SFC'].rolling(time=48).mean()\n",
    "# compute the cumulative sum\n",
    "ds['cumulative'] = ds['RDRS_v2.1_A_PR0_SFC'].cumsum(dim='time')\n",
    "ds"
   ]
  },
  {
   "cell_type": "markdown",
   "id": "709aab41-af8a-41b1-b0b7-d21153d4b514",
   "metadata": {},
   "source": [
    "Data in an xarray can be selected using any of several methods, applied to the dimensions of a dataset. \n",
    "\n",
    "Currenty, we have the following dimensions."
   ]
  },
  {
   "cell_type": "code",
   "execution_count": null,
   "id": "69187edb-2019-4fb0-8714-7488cfdf1d53",
   "metadata": {},
   "outputs": [],
   "source": [
    "ds.dims"
   ]
  },
  {
   "cell_type": "markdown",
   "id": "6aa30351-bd06-4c27-9205-28e8212f74e7",
   "metadata": {},
   "source": [
    "So we can index from these in several different ways..  "
   ]
  },
  {
   "cell_type": "code",
   "execution_count": null,
   "id": "a74a644c-6f26-475e-8067-931ee20eecea",
   "metadata": {},
   "outputs": [],
   "source": [
    "# by position, by integers\n",
    "# e.g., select precip for time = 0, and include all x and y coordinates.\n",
    "ds['RDRS_v2.1_A_PR0_SFC'][0,:,:]"
   ]
  },
  {
   "cell_type": "markdown",
   "id": "e53e0cbc-1899-4fcd-ae71-7d8eb30f23d8",
   "metadata": {},
   "source": [
    "## Plotting\n"
   ]
  },
  {
   "cell_type": "markdown",
   "id": "846658a0-849e-40b7-a634-fa6707b54f44",
   "metadata": {},
   "source": [
    "### With xarray"
   ]
  },
  {
   "cell_type": "code",
   "execution_count": null,
   "id": "e81fb3be-36b3-473b-9dbe-03734e3e1117",
   "metadata": {},
   "outputs": [],
   "source": [
    "ds['RDRS_v2.1_A_PR0_SFC'][:,100,100].plot()"
   ]
  },
  {
   "cell_type": "code",
   "execution_count": null,
   "id": "7539b87a-1e1b-4c86-8b63-00d7f3fb5a5a",
   "metadata": {},
   "outputs": [],
   "source": [
    "ds['RDRS_v2.1_A_PR0_SFC'].isel(time=40).plot(x='rlon', y='rlat', cmap='GnBu')"
   ]
  },
  {
   "cell_type": "markdown",
   "id": "5deb2ffd-361d-4e2c-8f66-eddbcb54a532",
   "metadata": {},
   "source": [
    "### With Matplotlib\n",
    "\n",
    "Since xarray uses matplotlib as its backend by default, you can combine the two and make use of the full functionality of matplotlib and also cartopy as well.\n",
    "\n",
    "First, ensure the plots are displayed inline in this notebook, plus ignore some warnings from the Shapely and Cartopy libraries."
   ]
  },
  {
   "cell_type": "code",
   "execution_count": null,
   "id": "f82888df-34c1-4424-8d34-bb22d8583c5b",
   "metadata": {},
   "outputs": [],
   "source": [
    "%matplotlib inline\n",
    "\n",
    "import warnings\n",
    "from shapely.errors import ShapelyDeprecationWarning\n",
    "from cartopy.io import DownloadWarning\n",
    "\n",
    "warnings.filterwarnings(\"ignore\", category=ShapelyDeprecationWarning)\n",
    "warnings.filterwarnings(\"ignore\", category=DownloadWarning)"
   ]
  },
  {
   "cell_type": "markdown",
   "id": "4a6dab13-fb74-4be3-9af6-9cf06c9d175d",
   "metadata": {},
   "source": [
    "*** I TRIED BELOW TO CONVERT ROTATED LAT-LON to REGULAR using code that seemed to work for another dataset and location, but it keeps grabbing a point ouside of the grid longitude (i.e., too far west)"
   ]
  },
  {
   "cell_type": "code",
   "execution_count": null,
   "id": "7b6ec64b-2611-42a7-843c-ab3780b7791a",
   "metadata": {},
   "outputs": [],
   "source": [
    "# https://stackoverflow.com/a/64431809\n",
    "\n",
    "import cartopy.crs as ccrs\n",
    "\n",
    "rpole_lon = ds.rotated_pole[0].grid_north_pole_longitude\n",
    "rpole_lat = ds.rotated_pole[0].grid_north_pole_latitude \n",
    "data_crs = ccrs.RotatedPole(rpole_lon, rpole_lat)\n",
    "\n",
    "# Transform the point - src_crs is always Plate Carree for lat/lon grid\n",
    "#x, y = data_crs.transform_point(-52.712, 47.5615, src_crs=ccrs.PlateCarree())\n",
    "x, y = data_crs.transform_point(-50.712, 47.5615, src_crs=ccrs.PlateCarree())\n",
    "stjohns = ds.sel(rlon=x, rlat=y, method='nearest')\n",
    "\n",
    "print(x,y)\n",
    "print(stjohns)\n",
    "#print(stjohns.rlat)\n",
    "stjohns[\"RDRS_v2.1_A_PR0_SFC\"].plot()"
   ]
  },
  {
   "cell_type": "code",
   "execution_count": null,
   "id": "eab6808c-fb6d-4514-8a5b-08ab72cd8345",
   "metadata": {},
   "outputs": [],
   "source": [
    "stjohns"
   ]
  },
  {
   "cell_type": "code",
   "execution_count": null,
   "id": "92cb07fc-4918-4840-91ae-2871b38fe416",
   "metadata": {},
   "outputs": [],
   "source": [
    "import hvplot.xarray"
   ]
  },
  {
   "cell_type": "code",
   "execution_count": null,
   "id": "770eba81-773d-4919-a3c6-a089dc195f68",
   "metadata": {},
   "outputs": [],
   "source": [
    "ds[\"1h-precip_mm\"]=ds[\"RDRS_v2.1_A_PR0_SFC\"]*1000\n",
    "ds[\"6h-precip_mm\"]=ds[\"6h-precip\"]*1000\n",
    "ds[\"12h-precip_mm\"]=ds[\"12h-precip\"]*1000\n",
    "ds[\"24h-precip_mm\"]=ds[\"24h-precip\"]*1000\n",
    "ds[\"48h-precip_mm\"]=ds[\"48h-precip\"]*1000\n",
    "ds[\"cumulative_mm\"]=ds[\"cumulative\"]*1000"
   ]
  },
  {
   "cell_type": "markdown",
   "id": "5b050926-19ed-4fb9-9920-b7715f289716",
   "metadata": {},
   "source": [
    "Now we'll plot it on a global orthographic projection to see the full spatial domain of the product."
   ]
  },
  {
   "cell_type": "code",
   "execution_count": null,
   "id": "b2556473-0fb9-445a-b514-7cac05092066",
   "metadata": {},
   "outputs": [],
   "source": [
    "import cartopy.crs as crs\n",
    "\n",
    "proj = crs.Orthographic(-90, 30)"
   ]
  },
  {
   "cell_type": "code",
   "execution_count": null,
   "id": "56b8ee70-65d5-435b-a203-14d35e953e10",
   "metadata": {},
   "outputs": [],
   "source": [
    "# plot cumulative precip for one (the final) time step only, and mask values below 0.1 threshold otherwise seems to be some erroneous data (easier to see this later on in this notebook as well)\n",
    "ds[\"cumulative_mm\"].where(ds['cumulative_mm']>0.1).isel(time=len(ds.time)-1).hvplot.quadmesh('lon', 'lat', \n",
    "                                                      geo=True, project=True, rasterize=True, \n",
    "                                                      xlim=(-70, -51.2), ylim=(42.7, 55),\n",
    "                                                      dynamic=False, coastline=True, \n",
    "                                                      title='Hurricane Igor - Sep 19-22, 2010 : Cumulative Precipitation (mm)', \n",
    "                                                      clabel='mm', \n",
    "                                                      frame_width=500)"
   ]
  },
  {
   "cell_type": "code",
   "execution_count": null,
   "id": "b3acd8d9-fb3c-4491-b6d0-b9d824b6ec76",
   "metadata": {},
   "outputs": [],
   "source": [
    "# we can change the colour scheme and increase the resolution of the coastline \n",
    "ds[\"cumulative_mm\"].where(ds['cumulative_mm']>0.1).isel(time=len(ds.time)-1).hvplot.quadmesh('lon', 'lat', \n",
    "                                                      geo=True, project=True, rasterize=True, \n",
    "                                                      xlim=(-60, -52), ylim=(46.4, 52), \n",
    "                                                      dynamic=False, coastline='10m', # options are '10m/50m/110m'\n",
    "                                                      title='Hurricane Igor - Sep 19-22, 2010 : Cumulative Precipitation (mm)',\n",
    "                                                      clabel='mm', \n",
    "                                                      cmap='YlGnBu',\n",
    "                                                      frame_width=500)"
   ]
  },
  {
   "cell_type": "code",
   "execution_count": null,
   "id": "f5b75fcd-30d7-4cc8-9846-425703198329",
   "metadata": {},
   "outputs": [],
   "source": [
    "# now plot 72 hours (time steps) to allow for a dynamic plot / animation\n",
    "# make sure you set the clim (i.e., the limits of the colour bar) or else it will jump around\n",
    "# we can also change the colour scheme and increase the resolution of the coastline \n",
    "ds[\"cumulative_mm\"].where(ds['cumulative_mm']>0.1).isel(time=slice(0,73,1)).hvplot.quadmesh('lon', 'lat', \n",
    "                                                      geo=True, project=True, rasterize=True, \n",
    "                                                      xlim=(-60, -52), ylim=(46.4, 52), \n",
    "                                                      clim=(0,250), # set colour limit\n",
    "                                                      dynamic=False, coastline='10m', # options are '10m/50m/110m'\n",
    "                                                      # title='Hurricane Igor - Sep 19-22, 2010 : Cumulative Precipitation (mm)', # ** Removed title so that we can see date / time instead\n",
    "                                                      clabel='mm', \n",
    "                                                      cmap='YlGnBu',\n",
    "                                                      frame_width=500)"
   ]
  },
  {
   "cell_type": "code",
   "execution_count": null,
   "id": "aca0dd56-6e50-45d8-b0a4-4383c5c641d7",
   "metadata": {},
   "outputs": [],
   "source": [
    "# here we plot 1h-precip (in mm) instead of cumulative...\n",
    "\n",
    "# in this case, plotting all data WITHOUT masking, you get zero values included and what look like some erroneous negative values for some reason.  \n",
    "ds[\"1h-precip_mm\"].isel(time=slice(5,10,1)).hvplot.quadmesh('lon', 'lat', \n",
    "                                                      geo=True, project=True, rasterize=True, \n",
    "                                                      xlim=(-70, -51.2), ylim=(42.7, 55), clim=(0,50), \n",
    "                                                      dynamic=False, coastline='50m', \n",
    "                                                      clabel='mm', \n",
    "                                                      cmap='cet_rainbow_bgyrm_35_85_c71',\n",
    "                                                      frame_width=500)"
   ]
  },
  {
   "cell_type": "code",
   "execution_count": null,
   "id": "dd621a4b-6868-4e03-a011-68998816e35f",
   "metadata": {},
   "outputs": [],
   "source": [
    "# mask 0 values and change colour scheme\n",
    "ds['1h-precip_mm'].where(ds['1h-precip_mm'] > 0).isel(time=[44]).hvplot.quadmesh('lon', 'lat', \n",
    "                                                      geo=True, project=True, rasterize=True, \n",
    "                                                      xlim=(-70, -51.2), ylim=(42.7, 55), clim=(0,50), \n",
    "                                                      dynamic=False, coastline='50m', \n",
    "                                                      clabel='mm', \n",
    "                                                      cmap='cet_rainbow_bgyrm_35_85_c71',\n",
    "                                                      frame_width=500)"
   ]
  },
  {
   "cell_type": "code",
   "execution_count": null,
   "id": "e60ca063-66f5-4020-a3ee-cfbb96dc9272",
   "metadata": {},
   "outputs": [],
   "source": [
    "# still faulty values... mask > 0.1\n",
    "ds['1h-precip_mm'].where(ds['1h-precip_mm'] > 0.1).isel(time=[44]).hvplot.quadmesh('lon', 'lat', \n",
    "                                                      geo=True, project=True, rasterize=True, \n",
    "                                                      xlim=(-70, -51.2), ylim=(42.7, 55), clim=(0,50), \n",
    "                                                      dynamic=False, coastline='50m', \n",
    "                                                      clabel='mm', \n",
    "                                                      cmap='cet_rainbow_bgyrm_35_85_c71',\n",
    "                                                      frame_width=500)"
   ]
  },
  {
   "cell_type": "code",
   "execution_count": null,
   "id": "dc4224bc-ea03-45a6-ac5c-ccf856ad0305",
   "metadata": {},
   "outputs": [],
   "source": [
    "# animate!\n",
    "ds['1h-precip_mm'].where(ds['1h-precip_mm'] > 0.1).isel(time=slice(0,73,1)).hvplot.quadmesh('lon', 'lat', \n",
    "                                                      geo=True, project=True, rasterize=True, \n",
    "                                                      xlim=(-70, -51.2), ylim=(42.7, 55), clim=(0,50), \n",
    "                                                      dynamic=False, coastline='50m', \n",
    "                                                      clabel='mm', \n",
    "                                                      cmap='cet_rainbow_bgyrm_35_85_c71',\n",
    "                                                      frame_width=500)"
   ]
  },
  {
   "cell_type": "markdown",
   "id": "72f58cd6-d7ca-41c7-ac5e-45cb15b81a85",
   "metadata": {},
   "source": [
    "## Plotting Wind Data\n",
    "\n",
    "Had some success with wind data using the vectorfield plots from hvplot, but plenty of difficulty with some of the options for overlays (e.g., couldn't add \"coastline = True\") and to animate.  \n",
    "\n",
    "So some of this may be helpful but needs work\n"
   ]
  },
  {
   "cell_type": "code",
   "execution_count": null,
   "id": "926d77e2-7a6a-43c0-b14a-7d4376f5450e",
   "metadata": {},
   "outputs": [],
   "source": [
    "import numpy as np"
   ]
  },
  {
   "cell_type": "code",
   "execution_count": null,
   "id": "b4779dbe-e95b-4064-af4d-c6140ce34d74",
   "metadata": {},
   "outputs": [],
   "source": [
    "ds['mag'] = np.sqrt(ds['RDRS_v2.1_P_UUC_10m']**2 + ds['RDRS_v2.1_P_VVC_10m']**2)\n",
    "ds['angle'] = (np.pi/2.) - np.arctan2(ds['RDRS_v2.1_P_UUC_10m']/ds['mag'], ds['RDRS_v2.1_P_VVC_10m']/ds['mag'])\n",
    "ds"
   ]
  },
  {
   "cell_type": "code",
   "execution_count": null,
   "id": "6b61f786-d859-4792-a1b6-fb73bd884134",
   "metadata": {},
   "outputs": [],
   "source": [
    "import geoviews as gv"
   ]
  },
  {
   "cell_type": "code",
   "execution_count": null,
   "id": "3aa72195-3474-4bfa-9ac8-40679bac4b77",
   "metadata": {},
   "outputs": [],
   "source": [
    "# https://hvplot.holoviz.org/reference/xarray/vectorfield.html\n",
    "\n",
    "# adding some options, tiles \n",
    "ds.isel(time=[44]).hvplot.vectorfield(x='lon', y='lat', angle='angle', mag='mag', \n",
    "                                      hover=False, geo=True, dynamic=True, #coastline=True,  # doesn't work\n",
    "                                      project=True, xlim=(-70, -51.2), ylim=(42.7, 55),\n",
    "                                      #cmap='cet_rainbow_bgyrm_35_85_c71',\n",
    "                                      frame_width=600).opts(magnitude='mag') * gv.feature.coastline().opts(global_extent=False) # Works!!!\n",
    "                                      # * gv.tile_sources.CartoLight  # Works but makes file larger"
   ]
  },
  {
   "cell_type": "code",
   "execution_count": null,
   "id": "c5bc0b6f-c126-4e7e-b73c-1f9756665ffe",
   "metadata": {},
   "outputs": [],
   "source": [
    "# https://holoviews.org/reference/elements/bokeh/VectorField.html\n",
    "\n",
    "# animations -- seem too slow to update and couldn't get fixed scaling of vectors to work\n",
    "\n",
    "ds.isel(time=slice(68,73,1)).hvplot.vectorfield(x='lon', y='lat', angle='angle', mag='mag', \n",
    "                                      hover=False, geo=True, dynamic=True, rasterize=True, #coastline=True,\n",
    "                                      project=True, xlim=(-60, -52), ylim=(46, 52), clim=(0,60),\n",
    "                                      #cmap='cet_rainbow_bgyrm_35_85_c71',\n",
    "                                      frame_width=600).opts(magnitude='mag', \n",
    "                                                            #magnitude=hv.dim('mag').norm()*0.2, rescale_lengths=False, # apparently needed for fixed scaling in animation, but didn't work\n",
    "                                                            color='mag', cmap='viridis', \n",
    "                                                            pivot='tip') * gv.feature.coastline().opts(global_extent=False)\n",
    "#* gv.tile_sources.CartoLight"
   ]
  },
  {
   "cell_type": "code",
   "execution_count": null,
   "id": "d086c932-ed18-4e66-b530-8fb5ebcd93d1",
   "metadata": {},
   "outputs": [],
   "source": [
    "help(gv.tile_sources)"
   ]
  },
  {
   "cell_type": "code",
   "execution_count": null,
   "id": "027a142a-c67d-4207-9d24-e83fe4b4bddc",
   "metadata": {},
   "outputs": [],
   "source": [
    "# could try Holoviews example outright (instead of hvplot)\n",
    "\n",
    "# https://holoviews.org/reference/elements/bokeh/VectorField.html"
   ]
  }
 ],
 "metadata": {
  "kernelspec": {
   "display_name": "Python 3 (ipykernel)",
   "language": "python",
   "name": "python3"
  },
  "language_info": {
   "codemirror_mode": {
    "name": "ipython",
    "version": 3
   },
   "file_extension": ".py",
   "mimetype": "text/x-python",
   "name": "python",
   "nbconvert_exporter": "python",
   "pygments_lexer": "ipython3",
   "version": "3.9.7"
  },
  "toc-autonumbering": true,
  "toc-showcode": true,
  "toc-showmarkdowntxt": true
 },
 "nbformat": 4,
 "nbformat_minor": 5
}
